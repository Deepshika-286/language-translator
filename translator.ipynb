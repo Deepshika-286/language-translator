{
  "cells": [
    {
      "cell_type": "markdown",
      "metadata": {
        "id": "view-in-github",
        "colab_type": "text"
      },
      "source": [
        "<a href=\"https://colab.research.google.com/github/Deepshika-286/language-translator/blob/main/translator.ipynb\" target=\"_parent\"><img src=\"https://colab.research.google.com/assets/colab-badge.svg\" alt=\"Open In Colab\"/></a>"
      ]
    },
    {
      "cell_type": "code",
      "execution_count": null,
      "id": "16813bd4",
      "metadata": {
        "id": "16813bd4",
        "outputId": "4daac57b-941d-476c-9655-169a968482a5"
      },
      "outputs": [
        {
          "name": "stderr",
          "output_type": "stream",
          "text": [
            "C:\\Users\\91886\\anaconda3\\lib\\site-packages\\scipy\\__init__.py:146: UserWarning: A NumPy version >=1.16.5 and <1.23.0 is required for this version of SciPy (detected version 1.26.4\n",
            "  warnings.warn(f\"A NumPy version >={np_minversion} and <{np_maxversion}\"\n"
          ]
        },
        {
          "name": "stdout",
          "output_type": "stream",
          "text": [
            "WARNING:tensorflow:From C:\\Users\\91886\\anaconda3\\lib\\site-packages\\keras\\src\\losses.py:2976: The name tf.losses.sparse_softmax_cross_entropy is deprecated. Please use tf.compat.v1.losses.sparse_softmax_cross_entropy instead.\n",
            "\n"
          ]
        }
      ],
      "source": [
        "import pandas\n",
        "import re\n",
        "import string\n",
        "import pickle\n",
        "from pickle import load,dump\n",
        "from numpy import array\n",
        "from numpy import argmax\n",
        "from keras.preprocessing.text import Tokenizer\n",
        "from keras.preprocessing.sequence import pad_sequences\n",
        "from keras.models import load_model\n",
        "from pickle import load\n",
        "from pickle import dump\n",
        "from numpy.random import rand\n",
        "from numpy.random import shuffle\n",
        "from unicodedata import normalize\n",
        "from tensorflow.keras.utils import pad_sequences, to_categorical, plot_model\n",
        "from tensorflow.keras.models import Sequential\n",
        "from tensorflow.keras.layers import Embedding, LSTM, RepeatVector, TimeDistributed, Dense"
      ]
    },
    {
      "cell_type": "code",
      "execution_count": null,
      "id": "ffa40cc8",
      "metadata": {
        "id": "ffa40cc8"
      },
      "outputs": [],
      "source": [
        "# load doc into memory\n",
        "def load_doc(filename):\n",
        " # open the file as read only\n",
        " file = open(filename, mode='rt', encoding='utf-8')\n",
        " # read all text\n",
        " text = file.read()\n",
        " # close the file\n",
        " file.close()\n",
        " return text"
      ]
    },
    {
      "cell_type": "code",
      "execution_count": null,
      "id": "df6bd225",
      "metadata": {
        "id": "df6bd225"
      },
      "outputs": [],
      "source": [
        "# split a loaded document into sentences\n",
        "def to_pairs(doc):\n",
        " lines = doc.strip().split('\\n')\n",
        " pairs = [line.split('\\t') for line in  lines]\n",
        " return pairs"
      ]
    },
    {
      "cell_type": "code",
      "execution_count": null,
      "id": "dcb9df9a",
      "metadata": {
        "id": "dcb9df9a"
      },
      "outputs": [],
      "source": [
        "# clean a list of lines\n",
        "def clean_pairs(lines):\n",
        "  cleaned = list()\n",
        " # prepare regex for char filtering\n",
        "  re_print = re.compile('[^%s]' % re.escape(string.printable))\n",
        " # prepare translation table for removing punctuation\n",
        "  table = str.maketrans('', '', string.punctuation)\n",
        "  for pair in lines:\n",
        "    clean_pair = list()\n",
        "    for line in pair:\n",
        " # normalize unicode characters\n",
        "      line = normalize('NFD', line).encode('ascii', 'ignore')\n",
        "      line = line.decode('UTF-8')\n",
        " # tokenize on white space\n",
        "      line = line.split()\n",
        " # convert to lowercase\n",
        "      line = [word.lower() for word in line]\n",
        " # remove punctuation from each token\n",
        "      line = [word.translate(table) for word in line]\n",
        " # remove non-printable chars form each token\n",
        "      line = [re_print.sub('', w) for w in line]\n",
        " # remove tokens with numbers in them\n",
        "      line = [word for word in line if word.isalpha()]\n",
        " # store as string\n",
        "      clean_pair.append(' '.join(line))\n",
        "      cleaned.append(clean_pair)\n",
        "  return array(cleaned)"
      ]
    },
    {
      "cell_type": "code",
      "execution_count": null,
      "id": "59878737",
      "metadata": {
        "id": "59878737",
        "outputId": "4dad99f9-cf0d-423f-9e21-9852bc8c5849"
      },
      "outputs": [
        {
          "name": "stdout",
          "output_type": "stream",
          "text": [
            "Saved: english-german.pkl\n",
            "[hi] => [hallo]\n",
            "[hi] => [hallo]\n",
            "[hi] => [gru gott]\n",
            "[hi] => [gru gott]\n",
            "[run] => [lauf]\n",
            "[run] => [lauf]\n",
            "[wow] => [potzdonner]\n",
            "[wow] => [potzdonner]\n",
            "[wow] => [donnerwetter]\n",
            "[wow] => [donnerwetter]\n",
            "[fire] => [feuer]\n",
            "[fire] => [feuer]\n",
            "[help] => [hilfe]\n",
            "[help] => [hilfe]\n",
            "[help] => [zu hulf]\n",
            "[help] => [zu hulf]\n",
            "[stop] => [stopp]\n",
            "[stop] => [stopp]\n",
            "[wait] => [warte]\n",
            "[wait] => [warte]\n",
            "[hello] => [hallo]\n",
            "[hello] => [hallo]\n",
            "[i try] => [ich probiere es]\n",
            "[i try] => [ich probiere es]\n",
            "[i won] => [ich hab gewonnen]\n",
            "[i won] => [ich hab gewonnen]\n",
            "[i won] => [ich habe gewonnen]\n",
            "[i won] => [ich habe gewonnen]\n",
            "[smile] => [lacheln]\n",
            "[smile] => [lacheln]\n",
            "[cheers] => [zum wohl]\n",
            "[cheers] => [zum wohl]\n",
            "[freeze] => [keine bewegung]\n",
            "[freeze] => [keine bewegung]\n",
            "[freeze] => [stehenbleiben]\n",
            "[freeze] => [stehenbleiben]\n",
            "[got it] => [verstanden]\n",
            "[got it] => [verstanden]\n",
            "[got it] => [einverstanden]\n",
            "[got it] => [einverstanden]\n",
            "[he ran] => [er rannte]\n",
            "[he ran] => [er rannte]\n",
            "[he ran] => [er lief]\n",
            "[he ran] => [er lief]\n",
            "[hop in] => [mach mit]\n",
            "[hop in] => [mach mit]\n",
            "[hug me] => [druck mich]\n",
            "[hug me] => [druck mich]\n",
            "[hug me] => [nimm mich in den arm]\n",
            "[hug me] => [nimm mich in den arm]\n",
            "[hug me] => [umarme mich]\n",
            "[hug me] => [umarme mich]\n",
            "[i fell] => [ich fiel]\n",
            "[i fell] => [ich fiel]\n",
            "[i fell] => [ich fiel hin]\n",
            "[i fell] => [ich fiel hin]\n",
            "[i fell] => [ich sturzte]\n",
            "[i fell] => [ich sturzte]\n",
            "[i fell] => [ich bin hingefallen]\n",
            "[i fell] => [ich bin hingefallen]\n",
            "[i fell] => [ich bin gesturzt]\n",
            "[i fell] => [ich bin gesturzt]\n",
            "[i know] => [ich wei]\n",
            "[i know] => [ich wei]\n",
            "[i lied] => [ich habe gelogen]\n",
            "[i lied] => [ich habe gelogen]\n",
            "[i lost] => [ich habe verloren]\n",
            "[i lost] => [ich habe verloren]\n",
            "[im] => [ich bin jahre alt]\n",
            "[im] => [ich bin jahre alt]\n",
            "[im] => [ich bin]\n",
            "[im] => [ich bin]\n",
            "[im ok] => [mir gehts gut]\n",
            "[im ok] => [mir gehts gut]\n",
            "[im ok] => [es geht mir gut]\n",
            "[im ok] => [es geht mir gut]\n",
            "[no way] => [unmoglich]\n",
            "[no way] => [unmoglich]\n",
            "[no way] => [das gibts doch nicht]\n",
            "[no way] => [das gibts doch nicht]\n",
            "[no way] => [ausgeschlossen]\n",
            "[no way] => [ausgeschlossen]\n",
            "[no way] => [in keinster weise]\n",
            "[no way] => [in keinster weise]\n",
            "[really] => [wirklich]\n",
            "[really] => [wirklich]\n",
            "[really] => [echt]\n",
            "[really] => [echt]\n",
            "[really] => [im ernst]\n",
            "[really] => [im ernst]\n",
            "[thanks] => [danke]\n",
            "[thanks] => [danke]\n",
            "[try it] => [versuchs]\n",
            "[try it] => [versuchs]\n",
            "[why me] => [warum ich]\n",
            "[why me] => [warum ich]\n",
            "[ask tom] => [frag tom]\n",
            "[ask tom] => [frag tom]\n",
            "[ask tom] => [fragen sie tom]\n",
            "[ask tom] => [fragen sie tom]\n",
            "[ask tom] => [fragt tom]\n",
            "[ask tom] => [fragt tom]\n",
            "[be cool] => [entspann dich]\n",
            "[be cool] => [entspann dich]\n",
            "[be fair] => [sei nicht ungerecht]\n",
            "[be fair] => [sei nicht ungerecht]\n",
            "[be fair] => [sei fair]\n",
            "[be fair] => [sei fair]\n",
            "[be nice] => [sei nett]\n",
            "[be nice] => [sei nett]\n",
            "[be nice] => [seien sie nett]\n",
            "[be nice] => [seien sie nett]\n",
            "[beat it] => [geh weg]\n",
            "[beat it] => [geh weg]\n",
            "[beat it] => [hau ab]\n",
            "[beat it] => [hau ab]\n",
            "[beat it] => [verschwinde]\n",
            "[beat it] => [verschwinde]\n",
            "[beat it] => [verdufte]\n",
            "[beat it] => [verdufte]\n",
            "[beat it] => [mach dich fort]\n",
            "[beat it] => [mach dich fort]\n",
            "[beat it] => [zieh leine]\n",
            "[beat it] => [zieh leine]\n",
            "[beat it] => [mach dich vom acker]\n",
            "[beat it] => [mach dich vom acker]\n",
            "[beat it] => [verzieh dich]\n",
            "[beat it] => [verzieh dich]\n",
            "[beat it] => [verkrumele dich]\n",
            "[beat it] => [verkrumele dich]\n",
            "[beat it] => [troll dich]\n",
            "[beat it] => [troll dich]\n",
            "[beat it] => [zisch ab]\n",
            "[beat it] => [zisch ab]\n",
            "[beat it] => [pack dich]\n",
            "[beat it] => [pack dich]\n",
            "[beat it] => [mach ne fliege]\n",
            "[beat it] => [mach ne fliege]\n",
            "[beat it] => [schwirr ab]\n",
            "[beat it] => [schwirr ab]\n",
            "[beat it] => [mach die sause]\n",
            "[beat it] => [mach die sause]\n",
            "[beat it] => [scher dich weg]\n",
            "[beat it] => [scher dich weg]\n",
            "[beat it] => [scher dich fort]\n",
            "[beat it] => [scher dich fort]\n",
            "[call me] => [ruf mich an]\n",
            "[call me] => [ruf mich an]\n",
            "[come in] => [komm herein]\n",
            "[come in] => [komm herein]\n",
            "[come in] => [herein]\n",
            "[come in] => [herein]\n",
            "[come on] => [komm]\n",
            "[come on] => [komm]\n",
            "[come on] => [kommt]\n",
            "[come on] => [kommt]\n",
            "[come on] => [mach schon]\n",
            "[come on] => [mach schon]\n",
            "[come on] => [macht schon]\n",
            "[come on] => [macht schon]\n",
            "[get out] => [raus]\n",
            "[get out] => [raus]\n",
            "[go away] => [geh weg]\n",
            "[go away] => [geh weg]\n",
            "[go away] => [hau ab]\n",
            "[go away] => [hau ab]\n",
            "[go away] => [verschwinde]\n",
            "[go away] => [verschwinde]\n",
            "[go away] => [verdufte]\n",
            "[go away] => [verdufte]\n",
            "[go away] => [mach dich fort]\n",
            "[go away] => [mach dich fort]\n",
            "[go away] => [zieh leine]\n",
            "[go away] => [zieh leine]\n",
            "[go away] => [mach dich vom acker]\n",
            "[go away] => [mach dich vom acker]\n",
            "[go away] => [verzieh dich]\n",
            "[go away] => [verzieh dich]\n",
            "[go away] => [verkrumele dich]\n",
            "[go away] => [verkrumele dich]\n",
            "[go away] => [troll dich]\n",
            "[go away] => [troll dich]\n",
            "[go away] => [zisch ab]\n",
            "[go away] => [zisch ab]\n",
            "[go away] => [pack dich]\n",
            "[go away] => [pack dich]\n",
            "[go away] => [mach ne fliege]\n",
            "[go away] => [mach ne fliege]\n",
            "[go away] => [schwirr ab]\n",
            "[go away] => [schwirr ab]\n",
            "[go away] => [mach die sause]\n",
            "[go away] => [mach die sause]\n",
            "[go away] => [scher dich weg]\n",
            "[go away] => [scher dich weg]\n",
            "[go away] => [scher dich fort]\n",
            "[go away] => [scher dich fort]\n",
            "[go away] => [geh weg]\n",
            "[go away] => [geh weg]\n",
            "[go away] => [verpiss dich]\n",
            "[go away] => [verpiss dich]\n"
          ]
        }
      ],
      "source": [
        "# save a list of clean sentences to file\n",
        "def save_clean_data(sentences, filename):\n",
        " dump(sentences, open(filename, 'wb'))\n",
        " print('Saved: %s' % filename)\n",
        "\n",
        "# load dataset\n",
        "filename = 'deu.txt'\n",
        "doc = load_doc(filename)\n",
        "# split into english-german pairs\n",
        "pairs = to_pairs(doc)\n",
        "# clean sentences\n",
        "clean_pairs = clean_pairs(pairs)\n",
        "# save clean pairs to file\n",
        "save_clean_data(clean_pairs, 'english-german.pkl')\n",
        "# spot check\n",
        "for i in range(200):\n",
        " print('[%s] => [%s]' % (clean_pairs[i,0], clean_pairs[i,1]))"
      ]
    },
    {
      "cell_type": "code",
      "execution_count": null,
      "id": "84fd42b5",
      "metadata": {
        "id": "84fd42b5",
        "outputId": "62fec0d3-dfb0-4419-a520-12c38d706106"
      },
      "outputs": [
        {
          "name": "stdout",
          "output_type": "stream",
          "text": [
            "Saved: english-german-both.pkl\n",
            "Saved: english-german-train.pkl\n",
            "Saved: english-german-test.pkl\n"
          ]
        }
      ],
      "source": [
        "# load a clean dataset\n",
        "def load_clean_sentences(filename):\n",
        " return load(open(filename, 'rb'))\n",
        "\n",
        "# save a list of clean sentences to file\n",
        "def save_clean_data(sentences, filename):\n",
        " dump(sentences, open(filename, 'wb'))\n",
        " print('Saved: %s' % filename)\n",
        "\n",
        "# load dataset\n",
        "raw_dataset = load_clean_sentences('english-german.pkl')\n",
        "\n",
        "# reduce dataset size\n",
        "n_sentences = 10000\n",
        "dataset = raw_dataset[:n_sentences, :]\n",
        "# random shuffle\n",
        "shuffle(dataset)\n",
        "# split into train/test\n",
        "train, test = dataset[:9000], dataset[9000:]\n",
        "# save\n",
        "save_clean_data(dataset, 'english-german-both.pkl')\n",
        "save_clean_data(train, 'english-german-train.pkl')\n",
        "save_clean_data(test, 'english-german-test.pkl')"
      ]
    },
    {
      "cell_type": "code",
      "execution_count": null,
      "id": "ab49a334",
      "metadata": {
        "id": "ab49a334"
      },
      "outputs": [],
      "source": [
        "# fit a tokenizer\n",
        "def create_tokenizer(lines):\n",
        " tokenizer = Tokenizer()\n",
        " tokenizer.fit_on_texts(lines)\n",
        " return tokenizer"
      ]
    },
    {
      "cell_type": "code",
      "execution_count": null,
      "id": "a6a305d7",
      "metadata": {
        "id": "a6a305d7"
      },
      "outputs": [],
      "source": [
        "# max sentence length\n",
        "def max_length(lines):\n",
        " return max(len(line.split()) for line in lines)"
      ]
    },
    {
      "cell_type": "code",
      "execution_count": null,
      "id": "4618158e",
      "metadata": {
        "id": "4618158e",
        "outputId": "b790e1aa-7b69-4b92-b582-42d514be2e00"
      },
      "outputs": [
        {
          "name": "stdout",
          "output_type": "stream",
          "text": [
            "English Vocabulary Size: 1466\n",
            "English Max Length: 5\n",
            "German Vocabulary Size: 2384\n",
            "German Max Length: 7\n"
          ]
        }
      ],
      "source": [
        "eng_tokenizer = create_tokenizer(dataset[:, 0])\n",
        "eng_vocab_size = len(eng_tokenizer.word_index) + 1\n",
        "eng_length = max_length(dataset[:, 0])\n",
        "print('English Vocabulary Size: %d' % eng_vocab_size)\n",
        "print('English Max Length: %d' % (eng_length))\n",
        "# prepare german tokenizer\n",
        "ger_tokenizer = create_tokenizer(dataset[:, 1])\n",
        "ger_vocab_size = len(ger_tokenizer.word_index) + 1\n",
        "ger_length = max_length(dataset[:, 1])\n",
        "print('German Vocabulary Size: %d' % ger_vocab_size)\n",
        "print('German Max Length: %d' % (ger_length))"
      ]
    },
    {
      "cell_type": "code",
      "execution_count": null,
      "id": "fa52ffbd",
      "metadata": {
        "id": "fa52ffbd"
      },
      "outputs": [],
      "source": [
        "# encode and pad sequences\n",
        "def encode_sequences(tokenizer, length, lines):\n",
        " # integer encode sequences\n",
        " X = tokenizer.texts_to_sequences(lines)\n",
        " # pad sequences with 0 values\n",
        " X = pad_sequences(X, maxlen=length, padding='post')\n",
        " return X"
      ]
    },
    {
      "cell_type": "code",
      "execution_count": null,
      "id": "fa19abc3",
      "metadata": {
        "id": "fa19abc3"
      },
      "outputs": [],
      "source": [
        "# one hot encode target sequence\n",
        "def encode_output(sequences, vocab_size):\n",
        " ylist = list()\n",
        " for sequence in sequences:\n",
        "  encoded = to_categorical(sequence, num_classes=vocab_size)\n",
        "  ylist.append(encoded)\n",
        " y = array(ylist)\n",
        " y = y.reshape(sequences.shape[0], sequences.shape[1], vocab_size)\n",
        " return y"
      ]
    },
    {
      "cell_type": "code",
      "execution_count": null,
      "id": "c1ab0e50",
      "metadata": {
        "id": "c1ab0e50"
      },
      "outputs": [],
      "source": [
        "# prepare training data\n",
        "trainX = encode_sequences(ger_tokenizer, ger_length, train[:, 1])\n",
        "trainY = encode_sequences(eng_tokenizer, eng_length, train[:, 0])\n",
        "trainY = encode_output(trainY, eng_vocab_size)\n",
        "# prepare validation data\n",
        "testX = encode_sequences(ger_tokenizer, ger_length, test[:, 1])\n",
        "testY = encode_sequences(eng_tokenizer, eng_length, test[:, 0])\n",
        "testY = encode_output(testY, eng_vocab_size)"
      ]
    },
    {
      "cell_type": "code",
      "execution_count": null,
      "id": "13159d84",
      "metadata": {
        "id": "13159d84",
        "outputId": "2ea92584-4071-4764-860d-6afe5bd2f15b"
      },
      "outputs": [
        {
          "name": "stdout",
          "output_type": "stream",
          "text": [
            "Model: \"sequential_1\"\n",
            "_________________________________________________________________\n",
            " Layer (type)                Output Shape              Param #   \n",
            "=================================================================\n",
            " embedding_1 (Embedding)     (None, 7, 256)            610304    \n",
            "                                                                 \n",
            " lstm_2 (LSTM)               (None, 256)               525312    \n",
            "                                                                 \n",
            " repeat_vector_1 (RepeatVec  (None, 5, 256)            0         \n",
            " tor)                                                            \n",
            "                                                                 \n",
            " lstm_3 (LSTM)               (None, 5, 256)            525312    \n",
            "                                                                 \n",
            " time_distributed_1 (TimeDi  (None, 5, 1466)           376762    \n",
            " stributed)                                                      \n",
            "                                                                 \n",
            "=================================================================\n",
            "Total params: 2037690 (7.77 MB)\n",
            "Trainable params: 2037690 (7.77 MB)\n",
            "Non-trainable params: 0 (0.00 Byte)\n",
            "_________________________________________________________________\n",
            "None\n"
          ]
        }
      ],
      "source": [
        "# define NMT model\n",
        "def define_model(src_vocab, tar_vocab, src_timesteps, tar_timesteps, n_units):\n",
        " model = Sequential()\n",
        " model.add(Embedding(src_vocab, n_units, input_length=src_timesteps, mask_zero=True))\n",
        " model.add(LSTM(n_units))\n",
        " model.add(RepeatVector(tar_timesteps))\n",
        " model.add(LSTM(n_units, return_sequences=True))\n",
        " model.add(TimeDistributed(Dense(tar_vocab, activation='softmax')))\n",
        " return model\n",
        "\n",
        "# define model\n",
        "model = define_model(ger_vocab_size, eng_vocab_size, ger_length, eng_length, 256)\n",
        "model.compile(optimizer='adam', loss='categorical_crossentropy',metrics=['accuracy'])\n",
        "# summarize defined model\n",
        "print(model.summary())"
      ]
    },
    {
      "cell_type": "code",
      "execution_count": null,
      "id": "f50cbd46",
      "metadata": {
        "id": "f50cbd46",
        "outputId": "4d9ee80d-447f-4629-871a-6a0213c8c215"
      },
      "outputs": [
        {
          "name": "stdout",
          "output_type": "stream",
          "text": [
            "Epoch 1/30\n",
            "WARNING:tensorflow:From C:\\Users\\91886\\anaconda3\\lib\\site-packages\\keras\\src\\utils\\tf_utils.py:492: The name tf.ragged.RaggedTensorValue is deprecated. Please use tf.compat.v1.ragged.RaggedTensorValue instead.\n",
            "\n",
            "WARNING:tensorflow:From C:\\Users\\91886\\anaconda3\\lib\\site-packages\\keras\\src\\engine\\base_layer_utils.py:384: The name tf.executing_eagerly_outside_functions is deprecated. Please use tf.compat.v1.executing_eagerly_outside_functions instead.\n",
            "\n",
            "141/141 - 13s - loss: 3.9086 - accuracy: 0.4673 - val_loss: 3.2060 - val_accuracy: 0.4794 - 13s/epoch - 96ms/step\n",
            "Epoch 2/30\n",
            "141/141 - 6s - loss: 3.0532 - accuracy: 0.4967 - val_loss: 2.9942 - val_accuracy: 0.5026 - 6s/epoch - 43ms/step\n",
            "Epoch 3/30\n",
            "141/141 - 7s - loss: 2.8880 - accuracy: 0.5128 - val_loss: 2.8699 - val_accuracy: 0.5138 - 7s/epoch - 47ms/step\n",
            "Epoch 4/30\n",
            "141/141 - 7s - loss: 2.7180 - accuracy: 0.5238 - val_loss: 2.7143 - val_accuracy: 0.5234 - 7s/epoch - 46ms/step\n",
            "Epoch 5/30\n",
            "141/141 - 7s - loss: 2.5484 - accuracy: 0.5412 - val_loss: 2.5934 - val_accuracy: 0.5400 - 7s/epoch - 47ms/step\n",
            "Epoch 6/30\n",
            "141/141 - 7s - loss: 2.3835 - accuracy: 0.5640 - val_loss: 2.4166 - val_accuracy: 0.5700 - 7s/epoch - 46ms/step\n",
            "Epoch 7/30\n",
            "141/141 - 7s - loss: 2.2037 - accuracy: 0.5907 - val_loss: 2.2608 - val_accuracy: 0.5868 - 7s/epoch - 47ms/step\n",
            "Epoch 8/30\n",
            "141/141 - 6s - loss: 2.0121 - accuracy: 0.6168 - val_loss: 2.0828 - val_accuracy: 0.6212 - 6s/epoch - 46ms/step\n",
            "Epoch 9/30\n",
            "141/141 - 7s - loss: 1.8194 - accuracy: 0.6427 - val_loss: 1.9262 - val_accuracy: 0.6428 - 7s/epoch - 50ms/step\n",
            "Epoch 10/30\n",
            "141/141 - 7s - loss: 1.6547 - accuracy: 0.6623 - val_loss: 1.7916 - val_accuracy: 0.6584 - 7s/epoch - 47ms/step\n",
            "Epoch 11/30\n",
            "141/141 - 6s - loss: 1.4971 - accuracy: 0.6848 - val_loss: 1.6703 - val_accuracy: 0.6740 - 6s/epoch - 41ms/step\n",
            "Epoch 12/30\n",
            "141/141 - 6s - loss: 1.3560 - accuracy: 0.7045 - val_loss: 1.5568 - val_accuracy: 0.6826 - 6s/epoch - 41ms/step\n",
            "Epoch 13/30\n",
            "141/141 - 6s - loss: 1.2252 - accuracy: 0.7254 - val_loss: 1.4478 - val_accuracy: 0.7028 - 6s/epoch - 41ms/step\n",
            "Epoch 14/30\n",
            "141/141 - 6s - loss: 1.1001 - accuracy: 0.7504 - val_loss: 1.3468 - val_accuracy: 0.7186 - 6s/epoch - 45ms/step\n",
            "Epoch 15/30\n",
            "141/141 - 7s - loss: 0.9858 - accuracy: 0.7734 - val_loss: 1.2474 - val_accuracy: 0.7376 - 7s/epoch - 47ms/step\n",
            "Epoch 16/30\n",
            "141/141 - 7s - loss: 0.8802 - accuracy: 0.7968 - val_loss: 1.1667 - val_accuracy: 0.7478 - 7s/epoch - 48ms/step\n",
            "Epoch 17/30\n",
            "141/141 - 7s - loss: 0.7786 - accuracy: 0.8193 - val_loss: 1.0640 - val_accuracy: 0.7668 - 7s/epoch - 46ms/step\n",
            "Epoch 18/30\n",
            "141/141 - 6s - loss: 0.6915 - accuracy: 0.8407 - val_loss: 0.9905 - val_accuracy: 0.7832 - 6s/epoch - 42ms/step\n",
            "Epoch 19/30\n",
            "141/141 - 6s - loss: 0.6103 - accuracy: 0.8591 - val_loss: 0.9188 - val_accuracy: 0.7932 - 6s/epoch - 39ms/step\n",
            "Epoch 20/30\n",
            "141/141 - 6s - loss: 0.5355 - accuracy: 0.8780 - val_loss: 0.8463 - val_accuracy: 0.8122 - 6s/epoch - 39ms/step\n",
            "Epoch 21/30\n",
            "141/141 - 6s - loss: 0.4701 - accuracy: 0.8938 - val_loss: 0.7829 - val_accuracy: 0.8264 - 6s/epoch - 41ms/step\n",
            "Epoch 22/30\n",
            "141/141 - 6s - loss: 0.4110 - accuracy: 0.9075 - val_loss: 0.7225 - val_accuracy: 0.8378 - 6s/epoch - 46ms/step\n",
            "Epoch 23/30\n",
            "141/141 - 6s - loss: 0.3619 - accuracy: 0.9189 - val_loss: 0.6700 - val_accuracy: 0.8498 - 6s/epoch - 46ms/step\n",
            "Epoch 24/30\n",
            "141/141 - 7s - loss: 0.3212 - accuracy: 0.9262 - val_loss: 0.6240 - val_accuracy: 0.8612 - 7s/epoch - 49ms/step\n",
            "Epoch 25/30\n",
            "141/141 - 7s - loss: 0.2833 - accuracy: 0.9344 - val_loss: 0.5881 - val_accuracy: 0.8686 - 7s/epoch - 46ms/step\n",
            "Epoch 26/30\n",
            "141/141 - 6s - loss: 0.2540 - accuracy: 0.9400 - val_loss: 0.5499 - val_accuracy: 0.8760 - 6s/epoch - 39ms/step\n",
            "Epoch 27/30\n",
            "141/141 - 6s - loss: 0.2272 - accuracy: 0.9451 - val_loss: 0.5191 - val_accuracy: 0.8834 - 6s/epoch - 43ms/step\n",
            "Epoch 28/30\n",
            "141/141 - 6s - loss: 0.2060 - accuracy: 0.9489 - val_loss: 0.4856 - val_accuracy: 0.8896 - 6s/epoch - 43ms/step\n",
            "Epoch 29/30\n",
            "141/141 - 7s - loss: 0.1869 - accuracy: 0.9515 - val_loss: 0.4643 - val_accuracy: 0.8966 - 7s/epoch - 46ms/step\n",
            "Epoch 30/30\n",
            "141/141 - 7s - loss: 0.1698 - accuracy: 0.9542 - val_loss: 0.4381 - val_accuracy: 0.8980 - 7s/epoch - 51ms/step\n"
          ]
        },
        {
          "data": {
            "text/plain": [
              "<keras.src.callbacks.History at 0x1f33020eaf0>"
            ]
          },
          "execution_count": 17,
          "metadata": {},
          "output_type": "execute_result"
        }
      ],
      "source": [
        "filename = 'model.h5'\n",
        "model.fit(trainX, trainY, epochs=30, batch_size=64, validation_data=(testX, testY), verbose=2)"
      ]
    },
    {
      "cell_type": "code",
      "execution_count": null,
      "id": "a25c50b3",
      "metadata": {
        "id": "a25c50b3"
      },
      "outputs": [],
      "source": [
        "# map an integer to a word\n",
        "def word_for_id(integer, tokenizer):\n",
        " for word, index in tokenizer.word_index.items():\n",
        "  if index == integer:\n",
        "    return word\n",
        " return None"
      ]
    },
    {
      "cell_type": "code",
      "execution_count": null,
      "id": "508fc9e9",
      "metadata": {
        "id": "508fc9e9"
      },
      "outputs": [],
      "source": [
        "# generate target given source sequence\n",
        "def predict_sequence(model, tokenizer, source):\n",
        " prediction = model.predict(source, verbose=0)[0]\n",
        " integers = [argmax(vector) for vector in prediction]\n",
        " target = list()\n",
        " for i in integers:\n",
        "  word = word_for_id(i, tokenizer)\n",
        "  if word is None:\n",
        "    break\n",
        "  target.append(word)\n",
        " return ' '.join(target)\n",
        "# evaluate the skill of the model\n"
      ]
    },
    {
      "cell_type": "code",
      "execution_count": null,
      "id": "d6eba7a9",
      "metadata": {
        "id": "d6eba7a9"
      },
      "outputs": [],
      "source": [
        "# evaluate the skill of the model\n",
        "def evaluate_model(model, tokenizer, sources, raw_dataset):\n",
        " actual, predicted = list(), list()\n",
        " for i, source in enumerate(sources):\n",
        " # translate encoded source text\n",
        "  source = source.reshape((1, source.shape[0]))\n",
        "  translation = predict_sequence(model, eng_tokenizer, source)\n",
        "  raw_target, raw_src = raw_dataset[i]\n",
        "  if i <= 10:\n",
        "    print('src=[%s], target=[%s], predicted=[%s]' % (raw_src, raw_target, translation))\n",
        "  else:\n",
        "    break;\n",
        "  actual.append([raw_target.split()])\n",
        "  predicted.append(translation.split())"
      ]
    },
    {
      "cell_type": "code",
      "execution_count": null,
      "id": "b07bc1ec",
      "metadata": {
        "id": "b07bc1ec",
        "outputId": "e42d1389-8aa6-4e4a-f01f-db00b2b85252"
      },
      "outputs": [
        {
          "name": "stdout",
          "output_type": "stream",
          "text": [
            "src=[ich arbeite viel],    target=[i work a lot],     predicted=[i know a lot]\n",
            "src=[er wird gehasst],    target=[he is hated],     predicted=[he is hated]\n",
            "src=[sie haben gewonnen],    target=[they won],     predicted=[youve won]\n",
            "src=[sie sind nicht nett],    target=[youre unkind],     predicted=[youre unkind]\n",
            "src=[ich habe sie gerettet],    target=[i saved you],     predicted=[i saved you]\n",
            "src=[bleiben sie ruhig],    target=[stay calm],     predicted=[stay calm]\n",
            "src=[ich habe es verdient],    target=[i deserved it],     predicted=[i deserved it]\n",
            "src=[tom druckt sich vage aus],    target=[tom is vague],     predicted=[tom is vague]\n",
            "src=[geh wieder rein],    target=[go back inside],     predicted=[go back inside]\n",
            "src=[ich liebe dich],    target=[i love you],     predicted=[i love you]\n",
            "src=[du bist launisch],    target=[youre moody],     predicted=[youre moody]\n"
          ]
        }
      ],
      "source": [
        "-evaluate_model(model, eng_tokenizer, trainX, train)"
      ]
    },
    {
      "cell_type": "code",
      "execution_count": null,
      "id": "e731e44c",
      "metadata": {
        "id": "e731e44c",
        "outputId": "3b317e26-721f-4651-cdf5-849bc31c1bda"
      },
      "outputs": [
        {
          "name": "stdout",
          "output_type": "stream",
          "text": [
            "src=[bis dann], target=[see you then], predicted=[see you then]\n",
            "src=[sie sind frei], target=[theyre free], predicted=[theyre free]\n",
            "src=[es ist zu schwierig], target=[its too hard], predicted=[its too hard]\n",
            "src=[tom hat es versucht], target=[tom tried], predicted=[tom tried]\n",
            "src=[sie mogeln], target=[they cheat], predicted=[they escaped]\n",
            "src=[sie sind reich], target=[you are rich], predicted=[you are rich]\n",
            "src=[ist tom krank], target=[is tom sick], predicted=[is tom sick]\n",
            "src=[die liebe bleibt], target=[love lasts], predicted=[love lasts]\n",
            "src=[er konnte es machen], target=[he could do it], predicted=[he could do it]\n",
            "src=[es ist zu hei], target=[it is too hot], predicted=[its too hot]\n",
            "src=[wir werden es versuchen], target=[well try], predicted=[well see]\n"
          ]
        }
      ],
      "source": [
        "evaluate_model(model, eng_tokenizer, testX, test)"
      ]
    },
    {
      "cell_type": "code",
      "execution_count": null,
      "id": "0850f518",
      "metadata": {
        "id": "0850f518"
      },
      "outputs": [],
      "source": []
    },
    {
      "cell_type": "code",
      "execution_count": null,
      "id": "c4f19b05",
      "metadata": {
        "id": "c4f19b05"
      },
      "outputs": [],
      "source": []
    }
  ],
  "metadata": {
    "kernelspec": {
      "display_name": "Python 3 (ipykernel)",
      "language": "python",
      "name": "python3"
    },
    "language_info": {
      "codemirror_mode": {
        "name": "ipython",
        "version": 3
      },
      "file_extension": ".py",
      "mimetype": "text/x-python",
      "name": "python",
      "nbconvert_exporter": "python",
      "pygments_lexer": "ipython3",
      "version": "3.9.12"
    },
    "colab": {
      "provenance": [],
      "include_colab_link": true
    }
  },
  "nbformat": 4,
  "nbformat_minor": 5
}